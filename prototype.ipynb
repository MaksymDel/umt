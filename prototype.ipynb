{
 "cells": [
  {
   "cell_type": "code",
   "execution_count": 1,
   "metadata": {},
   "outputs": [
    {
     "name": "stderr",
     "output_type": "stream",
     "text": [
      "Deprecated cache directory found (/home/del/.allennlp/datasets).  Please remove this directory from your system to free up space.\n"
     ]
    },
    {
     "name": "stdout",
     "output_type": "stream",
     "text": [
      "Better speed can be achieved with apex installed from https://www.github.com/nvidia/apex.\n"
     ]
    }
   ],
   "source": [
    "from allennlp.data.dataset_readers import DatasetReader"
   ]
  },
  {
   "cell_type": "code",
   "execution_count": 2,
   "metadata": {},
   "outputs": [],
   "source": [
    "from typing import Dict\n",
    "import logging\n",
    "\n",
    "from overrides import overrides\n",
    "\n",
    "from allennlp.common.checks import ConfigurationError\n",
    "from allennlp.common.file_utils import cached_path\n",
    "from allennlp.common.util import START_SYMBOL, END_SYMBOL\n",
    "from allennlp.data.dataset_readers.dataset_reader import DatasetReader\n",
    "from allennlp.data.fields import TextField\n",
    "from allennlp.data.instance import Instance\n",
    "from allennlp.data.tokenizers import Token, Tokenizer, WordTokenizer\n",
    "from allennlp.data.tokenizers.word_splitter import SimpleWordSplitter\n",
    "from allennlp.data.token_indexers import TokenIndexer, SingleIdTokenIndexer\n",
    "\n",
    "logger = logging.getLogger(__name__)  # pylint: disable=invalid-name"
   ]
  },
  {
   "cell_type": "code",
   "execution_count": 3,
   "metadata": {},
   "outputs": [],
   "source": [
    "#@DatasetReader.register(\"parallel\")\n",
    "class ParallelDatasetReader(DatasetReader):\n",
    "    \"\"\"\n",
    "    \"\"\"\n",
    "    def __init__(self,\n",
    "                 source_tokenizer: Tokenizer = None,\n",
    "                 target_tokenizer: Tokenizer = None,\n",
    "                 source_token_indexers: Dict[str, TokenIndexer] = None,\n",
    "                 target_token_indexers: Dict[str, TokenIndexer] = None,\n",
    "                 lazy: bool = False) -> None:\n",
    "        super().__init__(lazy)\n",
    "        self._source_tokenizer = source_tokenizer or WordTokenizer(word_splitter=SimpleWordSplitter())\n",
    "        self._target_tokenizer = target_tokenizer or self._source_tokenizer\n",
    "        self._source_token_indexers = source_token_indexers or {\"tokens\": SingleIdTokenIndexer()}\n",
    "        self._target_token_indexers = target_token_indexers or self._source_token_indexers\n",
    "\n",
    "    @overrides\n",
    "    def _read(self, file_path):\n",
    "        with open(cached_path(file_path), \"r\") as data_file:\n",
    "            logger.info(\"Reading instances from lines in file at: %s\", file_path)\n",
    "            for line_num, line in enumerate(data_file):\n",
    "                line = line.strip(\"\\n\")\n",
    "\n",
    "                if not line:\n",
    "                    continue\n",
    "\n",
    "                line_parts = line.split('\\t')\n",
    "                if len(line_parts) != 2:\n",
    "                    raise ConfigurationError(\"Invalid line format: %s (line number %d)\" % (line, line_num + 1))\n",
    "                source_sequence, target_sequence = line_parts\n",
    "                yield self.text_to_instance(source_sequence, target_sequence)\n",
    "\n",
    "    @overrides\n",
    "    def text_to_instance(self, source_string: str, target_string: str = None) -> Instance:  # type: ignore\n",
    "        # pylint: disable=arguments-differ\n",
    "        tokenized_source = self._source_tokenizer.tokenize(source_string)\n",
    "        source_field = TextField(tokenized_source, self._source_token_indexers)\n",
    "        if target_string is not None:\n",
    "            tokenized_target = self._target_tokenizer.tokenize(target_string)\n",
    "            target_field = TextField(tokenized_target, self._target_token_indexers)\n",
    "            return Instance({\"source_tokens\": source_field, \"target_tokens\": target_field})\n",
    "        else:\n",
    "            return Instance({'source_tokens': source_field})"
   ]
  },
  {
   "cell_type": "code",
   "execution_count": 4,
   "metadata": {},
   "outputs": [],
   "source": [
    "dr_para = ParallelDatasetReader(lazy=True)\n",
    "gen_para = dr_para._read(\"fixtures/data/para.en-ru\")"
   ]
  },
  {
   "cell_type": "code",
   "execution_count": 7,
   "metadata": {},
   "outputs": [],
   "source": [
    "i = gen_para.__next__()"
   ]
  },
  {
   "cell_type": "code",
   "execution_count": 8,
   "metadata": {},
   "outputs": [
    {
     "data": {
      "text/plain": [
       "[Ya, hozhu, v, shkolu, .]"
      ]
     },
     "execution_count": 8,
     "metadata": {},
     "output_type": "execute_result"
    }
   ],
   "source": [
    "i.fields['target_tokens'].tokens"
   ]
  },
  {
   "cell_type": "code",
   "execution_count": 12,
   "metadata": {},
   "outputs": [],
   "source": [
    "#@DatasetReader.register(\"monolingual\")\n",
    "class MonolingualDatasetReader(DatasetReader):\n",
    "    \"\"\"\n",
    "    \"\"\"\n",
    "    def __init__(self,\n",
    "                 tokenizer: Tokenizer = None,\n",
    "                 token_indexers: Dict[str, TokenIndexer] = None,\n",
    "                 lazy: bool = False) -> None:\n",
    "        super().__init__(lazy)\n",
    "        self._tokenizer = tokenizer or WordTokenizer(word_splitter=SimpleWordSplitter())\n",
    "        self._token_indexers = token_indexers or {\"tokens\": SingleIdTokenIndexer()}\n",
    "\n",
    "    @overrides\n",
    "    def _read(self, file_path):\n",
    "        with open(cached_path(file_path), \"r\") as data_file:\n",
    "            logger.info(\"Reading instances from lines in file at: %s\", file_path)\n",
    "            for line_num, line in enumerate(data_file):\n",
    "                line = line.strip(\"\\n\")\n",
    "\n",
    "                if not line:\n",
    "                    continue\n",
    "\n",
    "                yield self.text_to_instance(line)\n",
    "\n",
    "    @overrides\n",
    "    def text_to_instance(self, string: str) -> Instance:  # type: ignore\n",
    "        # pylint: disable=arguments-differ\n",
    "        tokenized_string = self._tokenizer.tokenize(string)\n",
    "        string_field = TextField(tokenized_string, self._token_indexers)\n",
    "        return Instance({'tokens': string_field})"
   ]
  },
  {
   "cell_type": "code",
   "execution_count": 13,
   "metadata": {},
   "outputs": [],
   "source": [
    "dr_mono = MonolingualDatasetReader(lazy=True)\n",
    "gen_mono = dr_mono._read(\"fixtures/data/mono.ru\")"
   ]
  },
  {
   "cell_type": "code",
   "execution_count": 15,
   "metadata": {},
   "outputs": [
    {
     "data": {
      "text/plain": [
       "[Skolko, let, -, skolto, zim, .]"
      ]
     },
     "execution_count": 15,
     "metadata": {},
     "output_type": "execute_result"
    }
   ],
   "source": [
    "gen_mono.__next__().fields['tokens'].tokens"
   ]
  },
  {
   "cell_type": "code",
   "execution_count": null,
   "metadata": {},
   "outputs": [],
   "source": []
  }
 ],
 "metadata": {
  "kernelspec": {
   "display_name": "Python [conda env:konstrukt]",
   "language": "python",
   "name": "conda-env-konstrukt-py"
  },
  "language_info": {
   "codemirror_mode": {
    "name": "ipython",
    "version": 3
   },
   "file_extension": ".py",
   "mimetype": "text/x-python",
   "name": "python",
   "nbconvert_exporter": "python",
   "pygments_lexer": "ipython3",
   "version": "3.6.1"
  }
 },
 "nbformat": 4,
 "nbformat_minor": 2
}
